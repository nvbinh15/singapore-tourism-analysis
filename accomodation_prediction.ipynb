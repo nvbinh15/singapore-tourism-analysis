{
 "cells": [
  {
   "cell_type": "code",
   "execution_count": 1,
   "id": "deb27196",
   "metadata": {},
   "outputs": [],
   "source": [
    "import numpy as np\n",
    "import pandas as pd\n",
    "import matplotlib.pyplot as plt\n",
    "import seaborn as sb\n",
    "plt.style.use('ggplot')\n",
    "\n",
    "np.random.seed(42)"
   ]
  },
  {
   "cell_type": "code",
   "execution_count": 2,
   "id": "3a21dc52",
   "metadata": {},
   "outputs": [],
   "source": [
    "import warnings\n",
    "warnings.filterwarnings('ignore')"
   ]
  },
  {
   "cell_type": "code",
   "execution_count": 3,
   "id": "add68fc4",
   "metadata": {},
   "outputs": [],
   "source": [
    "indo = pd.read_excel('data/indonesia_tourist.xlsx')"
   ]
  },
  {
   "cell_type": "code",
   "execution_count": 4,
   "id": "8b132b96",
   "metadata": {},
   "outputs": [
    {
     "data": {
      "text/html": [
       "<div>\n",
       "<style scoped>\n",
       "    .dataframe tbody tr th:only-of-type {\n",
       "        vertical-align: middle;\n",
       "    }\n",
       "\n",
       "    .dataframe tbody tr th {\n",
       "        vertical-align: top;\n",
       "    }\n",
       "\n",
       "    .dataframe thead th {\n",
       "        text-align: right;\n",
       "    }\n",
       "</style>\n",
       "<table border=\"1\" class=\"dataframe\">\n",
       "  <thead>\n",
       "    <tr style=\"text-align: right;\">\n",
       "      <th></th>\n",
       "      <th>case</th>\n",
       "      <th>Year</th>\n",
       "      <th>R.mth</th>\n",
       "      <th>date</th>\n",
       "      <th>intv_nam</th>\n",
       "      <th>Country_residence</th>\n",
       "      <th>City_residence</th>\n",
       "      <th>Purpose_grp</th>\n",
       "      <th>Purpose</th>\n",
       "      <th>Weights_QTR</th>\n",
       "      <th>...</th>\n",
       "      <th>tototh_$</th>\n",
       "      <th>totshopping_$</th>\n",
       "      <th>totexp_$</th>\n",
       "      <th>MainAccomm</th>\n",
       "      <th>MainHotel</th>\n",
       "      <th>travel_companion.1</th>\n",
       "      <th>travel_companion.2</th>\n",
       "      <th>travel_companion.3</th>\n",
       "      <th>travel_companion.4</th>\n",
       "      <th>travel_companion.5</th>\n",
       "    </tr>\n",
       "  </thead>\n",
       "  <tbody>\n",
       "    <tr>\n",
       "      <th>0</th>\n",
       "      <td>18</td>\n",
       "      <td>2015</td>\n",
       "      <td>January</td>\n",
       "      <td>2015-01-01</td>\n",
       "      <td>Cindy Liu</td>\n",
       "      <td>Indonesia</td>\n",
       "      <td>Yogyakarta</td>\n",
       "      <td>Leisure</td>\n",
       "      <td>Holiday/ Rest &amp; Relax</td>\n",
       "      <td>632.145161</td>\n",
       "      <td>...</td>\n",
       "      <td>0.0</td>\n",
       "      <td>854.853136</td>\n",
       "      <td>1096.186995</td>\n",
       "      <td>Hotel</td>\n",
       "      <td>V Hotel Lavender</td>\n",
       "      <td>Spouse</td>\n",
       "      <td>Children aged 8-12 yrs</td>\n",
       "      <td>NaN</td>\n",
       "      <td>NaN</td>\n",
       "      <td>NaN</td>\n",
       "    </tr>\n",
       "    <tr>\n",
       "      <th>1</th>\n",
       "      <td>41</td>\n",
       "      <td>2015</td>\n",
       "      <td>January</td>\n",
       "      <td>2015-01-01</td>\n",
       "      <td>Philip Chew</td>\n",
       "      <td>Indonesia</td>\n",
       "      <td>Batam</td>\n",
       "      <td>Leisure</td>\n",
       "      <td>Holiday/ Rest &amp; Relax</td>\n",
       "      <td>341.937500</td>\n",
       "      <td>...</td>\n",
       "      <td>0.0</td>\n",
       "      <td>171.519802</td>\n",
       "      <td>379.309926</td>\n",
       "      <td>Hotel</td>\n",
       "      <td>Madras Hotel</td>\n",
       "      <td>Spouse</td>\n",
       "      <td>Children aged 0-7 yrs</td>\n",
       "      <td>Friends</td>\n",
       "      <td>NaN</td>\n",
       "      <td>NaN</td>\n",
       "    </tr>\n",
       "    <tr>\n",
       "      <th>2</th>\n",
       "      <td>43</td>\n",
       "      <td>2015</td>\n",
       "      <td>January</td>\n",
       "      <td>2015-01-01</td>\n",
       "      <td>Philip Chew</td>\n",
       "      <td>Indonesia</td>\n",
       "      <td>Batam</td>\n",
       "      <td>Leisure</td>\n",
       "      <td>Holiday/ Rest &amp; Relax</td>\n",
       "      <td>432.866667</td>\n",
       "      <td>...</td>\n",
       "      <td>0.0</td>\n",
       "      <td>104.853136</td>\n",
       "      <td>420.727677</td>\n",
       "      <td>Hotel</td>\n",
       "      <td>Hotel 81 - Geylang</td>\n",
       "      <td>Spouse</td>\n",
       "      <td>Children aged 8-12 yrs</td>\n",
       "      <td>NaN</td>\n",
       "      <td>NaN</td>\n",
       "      <td>NaN</td>\n",
       "    </tr>\n",
       "  </tbody>\n",
       "</table>\n",
       "<p>3 rows × 48 columns</p>\n",
       "</div>"
      ],
      "text/plain": [
       "   case  Year    R.mth       date     intv_nam Country_residence  \\\n",
       "0    18  2015  January 2015-01-01    Cindy Liu         Indonesia   \n",
       "1    41  2015  January 2015-01-01  Philip Chew         Indonesia   \n",
       "2    43  2015  January 2015-01-01  Philip Chew         Indonesia   \n",
       "\n",
       "  City_residence Purpose_grp                Purpose  Weights_QTR  ...  \\\n",
       "0     Yogyakarta     Leisure  Holiday/ Rest & Relax   632.145161  ...   \n",
       "1          Batam     Leisure  Holiday/ Rest & Relax   341.937500  ...   \n",
       "2          Batam     Leisure  Holiday/ Rest & Relax   432.866667  ...   \n",
       "\n",
       "  tototh_$ totshopping_$     totexp_$ MainAccomm           MainHotel  \\\n",
       "0      0.0    854.853136  1096.186995      Hotel    V Hotel Lavender   \n",
       "1      0.0    171.519802   379.309926      Hotel        Madras Hotel   \n",
       "2      0.0    104.853136   420.727677      Hotel  Hotel 81 - Geylang   \n",
       "\n",
       "  travel_companion.1      travel_companion.2 travel_companion.3  \\\n",
       "0             Spouse  Children aged 8-12 yrs                NaN   \n",
       "1             Spouse   Children aged 0-7 yrs            Friends   \n",
       "2             Spouse  Children aged 8-12 yrs                NaN   \n",
       "\n",
       "  travel_companion.4 travel_companion.5  \n",
       "0                NaN                NaN  \n",
       "1                NaN                NaN  \n",
       "2                NaN                NaN  \n",
       "\n",
       "[3 rows x 48 columns]"
      ]
     },
     "execution_count": 4,
     "metadata": {},
     "output_type": "execute_result"
    }
   ],
   "source": [
    "indo.head(3)"
   ]
  },
  {
   "cell_type": "code",
   "execution_count": 5,
   "id": "c164ff52",
   "metadata": {},
   "outputs": [
    {
     "data": {
      "text/plain": [
       "Index(['case', 'Year', 'R.mth', 'date', 'intv_nam', 'Country_residence',\n",
       "       'City_residence', 'Purpose_grp', 'Purpose', 'Weights_QTR',\n",
       "       'Air_Terminal', 'Sea_Terminal', 'Land_Terminal', 'langint', '1st_visit',\n",
       "       'length_stay', 'travel_type', 'f1_gender', 'f3_occupation',\n",
       "       'f4_industry', 'f5_designation', 'f5_designation.oth', 'shop_$fash',\n",
       "       'shop_$jew', 'shop_$wat', 'shop_$well', 'shop_$food', 'shop_$gift',\n",
       "       'shop_$ctec', 'shop_$anti', 'shop_$oth', 'shop_$any', 'totacc_$',\n",
       "       'totfnb_$', 'tottran_$', 'totbiz_$', 'totedu_$', 'totmedi_$',\n",
       "       'tototh_$', 'totshopping_$', 'totexp_$', 'MainAccomm', 'MainHotel',\n",
       "       'travel_companion.1', 'travel_companion.2', 'travel_companion.3',\n",
       "       'travel_companion.4', 'travel_companion.5'],\n",
       "      dtype='object')"
      ]
     },
     "execution_count": 5,
     "metadata": {},
     "output_type": "execute_result"
    }
   ],
   "source": [
    "indo.columns"
   ]
  },
  {
   "cell_type": "markdown",
   "id": "54d34c5d",
   "metadata": {},
   "source": [
    "## Pre-processing"
   ]
  },
  {
   "cell_type": "code",
   "execution_count": 6,
   "id": "f81d42cb",
   "metadata": {},
   "outputs": [
    {
     "data": {
      "text/plain": [
       "case                     0\n",
       "Year                     0\n",
       "R.mth                    0\n",
       "date                     0\n",
       "intv_nam                 0\n",
       "Country_residence        0\n",
       "City_residence           0\n",
       "Purpose_grp              0\n",
       "Purpose                  0\n",
       "Weights_QTR              0\n",
       "Air_Terminal          3190\n",
       "Sea_Terminal          6059\n",
       "Land_Terminal         8532\n",
       "langint                  0\n",
       "1st_visit                0\n",
       "length_stay              0\n",
       "travel_type              0\n",
       "f1_gender                0\n",
       "f3_occupation            0\n",
       "f4_industry           2844\n",
       "f5_designation        3096\n",
       "f5_designation.oth    2969\n",
       "shop_$fash              80\n",
       "shop_$jew               80\n",
       "shop_$wat               80\n",
       "shop_$well              80\n",
       "shop_$food              80\n",
       "shop_$gift              80\n",
       "shop_$ctec              80\n",
       "shop_$anti              80\n",
       "shop_$oth               80\n",
       "shop_$any               80\n",
       "totacc_$                 0\n",
       "totfnb_$                 0\n",
       "tottran_$                0\n",
       "totbiz_$                 0\n",
       "totedu_$                 0\n",
       "totmedi_$                0\n",
       "tototh_$                 0\n",
       "totshopping_$            0\n",
       "totexp_$                 0\n",
       "MainAccomm              33\n",
       "MainHotel             4590\n",
       "travel_companion.1       0\n",
       "travel_companion.2    7255\n",
       "travel_companion.3    8397\n",
       "travel_companion.4    8793\n",
       "travel_companion.5    8870\n",
       "dtype: int64"
      ]
     },
     "execution_count": 6,
     "metadata": {},
     "output_type": "execute_result"
    }
   ],
   "source": [
    "indo.isnull().sum()"
   ]
  },
  {
   "cell_type": "code",
   "execution_count": 7,
   "id": "9359adc6",
   "metadata": {},
   "outputs": [],
   "source": [
    "# drop columns with a lot of NA values\n",
    "indo.drop(\n",
    "    columns=[\n",
    "        'Air_Terminal', 'Sea_Terminal', 'Land_Terminal',\n",
    "        'f4_industry', 'f5_designation', 'f5_designation.oth',\n",
    "        'travel_companion.2', 'travel_companion.3', 'travel_companion.4', 'travel_companion.5',\n",
    "    ], \n",
    "    inplace=True\n",
    ")"
   ]
  },
  {
   "cell_type": "code",
   "execution_count": 8,
   "id": "84a9301c",
   "metadata": {},
   "outputs": [],
   "source": [
    "# calculate total spending for shopping and other categories\n",
    "indo['total_shopping'] = indo.loc[:,[\n",
    "    'shop_$fash', 'shop_$jew', 'shop_$wat', 'shop_$well', 'shop_$food', \n",
    "    'shop_$gift', 'shop_$ctec', 'shop_$anti', 'shop_$oth', 'shop_$any'\n",
    "]].sum(axis=1)\n",
    "\n",
    "indo['total_others'] = indo.loc[:,[\n",
    "    'totacc_$', 'totfnb_$', 'tottran_$', 'totbiz_$', 'totedu_$', 'totmedi_$',\n",
    "    'tototh_$', 'totshopping_$'\n",
    "]].sum(axis=1)"
   ]
  },
  {
   "cell_type": "code",
   "execution_count": 9,
   "id": "95fbef95",
   "metadata": {},
   "outputs": [],
   "source": [
    "# drop irrelevant columns and columns that directly depends on type of accomodation\n",
    "indo.drop(\n",
    "    columns = [\n",
    "        'shop_$fash','shop_$jew', 'shop_$wat', 'shop_$well', 'shop_$food', 'shop_$gift',\n",
    "        'shop_$ctec', 'shop_$anti', 'shop_$oth', 'shop_$any', 'totacc_$',\n",
    "        'totfnb_$', 'tottran_$', 'totbiz_$', 'totedu_$', 'totmedi_$',\n",
    "        'tototh_$', 'totshopping_$', 'case',\n",
    "        'Country_residence', 'Purpose_grp','date',\n",
    "        'Weights_QTR', 'MainHotel', 'intv_nam',\n",
    "    ],\n",
    "    inplace = True\n",
    ")"
   ]
  },
  {
   "cell_type": "code",
   "execution_count": 10,
   "id": "6693dd7b",
   "metadata": {},
   "outputs": [
    {
     "data": {
      "text/html": [
       "<div>\n",
       "<style scoped>\n",
       "    .dataframe tbody tr th:only-of-type {\n",
       "        vertical-align: middle;\n",
       "    }\n",
       "\n",
       "    .dataframe tbody tr th {\n",
       "        vertical-align: top;\n",
       "    }\n",
       "\n",
       "    .dataframe thead th {\n",
       "        text-align: right;\n",
       "    }\n",
       "</style>\n",
       "<table border=\"1\" class=\"dataframe\">\n",
       "  <thead>\n",
       "    <tr style=\"text-align: right;\">\n",
       "      <th></th>\n",
       "      <th>Year</th>\n",
       "      <th>totexp_$</th>\n",
       "      <th>total_shopping</th>\n",
       "      <th>total_others</th>\n",
       "    </tr>\n",
       "  </thead>\n",
       "  <tbody>\n",
       "    <tr>\n",
       "      <th>count</th>\n",
       "      <td>8887.000000</td>\n",
       "      <td>8.887000e+03</td>\n",
       "      <td>8887.000000</td>\n",
       "      <td>8.887000e+03</td>\n",
       "    </tr>\n",
       "    <tr>\n",
       "      <th>mean</th>\n",
       "      <td>2014.503545</td>\n",
       "      <td>3.685110e+03</td>\n",
       "      <td>331.037960</td>\n",
       "      <td>3.685110e+03</td>\n",
       "    </tr>\n",
       "    <tr>\n",
       "      <th>std</th>\n",
       "      <td>0.500016</td>\n",
       "      <td>2.736304e+05</td>\n",
       "      <td>882.649082</td>\n",
       "      <td>2.736304e+05</td>\n",
       "    </tr>\n",
       "    <tr>\n",
       "      <th>min</th>\n",
       "      <td>2014.000000</td>\n",
       "      <td>8.086393e+01</td>\n",
       "      <td>0.000000</td>\n",
       "      <td>8.086393e+01</td>\n",
       "    </tr>\n",
       "    <tr>\n",
       "      <th>25%</th>\n",
       "      <td>2014.000000</td>\n",
       "      <td>2.070473e+02</td>\n",
       "      <td>0.000000</td>\n",
       "      <td>2.070473e+02</td>\n",
       "    </tr>\n",
       "    <tr>\n",
       "      <th>50%</th>\n",
       "      <td>2015.000000</td>\n",
       "      <td>4.279709e+02</td>\n",
       "      <td>100.000000</td>\n",
       "      <td>4.279709e+02</td>\n",
       "    </tr>\n",
       "    <tr>\n",
       "      <th>75%</th>\n",
       "      <td>2015.000000</td>\n",
       "      <td>8.552404e+02</td>\n",
       "      <td>341.557500</td>\n",
       "      <td>8.552404e+02</td>\n",
       "    </tr>\n",
       "    <tr>\n",
       "      <th>max</th>\n",
       "      <td>2015.000000</td>\n",
       "      <td>2.579524e+07</td>\n",
       "      <td>30000.000000</td>\n",
       "      <td>2.579524e+07</td>\n",
       "    </tr>\n",
       "  </tbody>\n",
       "</table>\n",
       "</div>"
      ],
      "text/plain": [
       "              Year      totexp_$  total_shopping  total_others\n",
       "count  8887.000000  8.887000e+03     8887.000000  8.887000e+03\n",
       "mean   2014.503545  3.685110e+03      331.037960  3.685110e+03\n",
       "std       0.500016  2.736304e+05      882.649082  2.736304e+05\n",
       "min    2014.000000  8.086393e+01        0.000000  8.086393e+01\n",
       "25%    2014.000000  2.070473e+02        0.000000  2.070473e+02\n",
       "50%    2015.000000  4.279709e+02      100.000000  4.279709e+02\n",
       "75%    2015.000000  8.552404e+02      341.557500  8.552404e+02\n",
       "max    2015.000000  2.579524e+07    30000.000000  2.579524e+07"
      ]
     },
     "execution_count": 10,
     "metadata": {},
     "output_type": "execute_result"
    }
   ],
   "source": [
    "indo.describe()"
   ]
  },
  {
   "cell_type": "code",
   "execution_count": 11,
   "id": "a065a291",
   "metadata": {},
   "outputs": [
    {
     "data": {
      "text/html": [
       "<div>\n",
       "<style scoped>\n",
       "    .dataframe tbody tr th:only-of-type {\n",
       "        vertical-align: middle;\n",
       "    }\n",
       "\n",
       "    .dataframe tbody tr th {\n",
       "        vertical-align: top;\n",
       "    }\n",
       "\n",
       "    .dataframe thead th {\n",
       "        text-align: right;\n",
       "    }\n",
       "</style>\n",
       "<table border=\"1\" class=\"dataframe\">\n",
       "  <thead>\n",
       "    <tr style=\"text-align: right;\">\n",
       "      <th></th>\n",
       "      <th>Year</th>\n",
       "      <th>R.mth</th>\n",
       "      <th>City_residence</th>\n",
       "      <th>Purpose</th>\n",
       "      <th>langint</th>\n",
       "      <th>1st_visit</th>\n",
       "      <th>length_stay</th>\n",
       "      <th>travel_type</th>\n",
       "      <th>f1_gender</th>\n",
       "      <th>f3_occupation</th>\n",
       "      <th>totexp_$</th>\n",
       "      <th>MainAccomm</th>\n",
       "      <th>travel_companion.1</th>\n",
       "      <th>total_shopping</th>\n",
       "      <th>total_others</th>\n",
       "    </tr>\n",
       "  </thead>\n",
       "  <tbody>\n",
       "    <tr>\n",
       "      <th>0</th>\n",
       "      <td>2015</td>\n",
       "      <td>January</td>\n",
       "      <td>Yogyakarta</td>\n",
       "      <td>Holiday/ Rest &amp; Relax</td>\n",
       "      <td>English</td>\n",
       "      <td>No</td>\n",
       "      <td>4 days</td>\n",
       "      <td>Non-Packaged</td>\n",
       "      <td>Male</td>\n",
       "      <td>Businessman (small company, &lt;50 people)</td>\n",
       "      <td>1096.186995</td>\n",
       "      <td>Hotel</td>\n",
       "      <td>Spouse</td>\n",
       "      <td>1500.000000</td>\n",
       "      <td>1096.186995</td>\n",
       "    </tr>\n",
       "    <tr>\n",
       "      <th>1</th>\n",
       "      <td>2015</td>\n",
       "      <td>January</td>\n",
       "      <td>Batam</td>\n",
       "      <td>Holiday/ Rest &amp; Relax</td>\n",
       "      <td>English</td>\n",
       "      <td>No</td>\n",
       "      <td>2 days</td>\n",
       "      <td>Packaged</td>\n",
       "      <td>Male</td>\n",
       "      <td>Professiols (doctor, lawyer, lecturer, etc)</td>\n",
       "      <td>379.309926</td>\n",
       "      <td>Hotel</td>\n",
       "      <td>Spouse</td>\n",
       "      <td>133.333333</td>\n",
       "      <td>379.309926</td>\n",
       "    </tr>\n",
       "    <tr>\n",
       "      <th>2</th>\n",
       "      <td>2015</td>\n",
       "      <td>January</td>\n",
       "      <td>Batam</td>\n",
       "      <td>Holiday/ Rest &amp; Relax</td>\n",
       "      <td>English</td>\n",
       "      <td>No</td>\n",
       "      <td>3 days</td>\n",
       "      <td>Non-Packaged</td>\n",
       "      <td>Female</td>\n",
       "      <td>Homemaker (Full time)</td>\n",
       "      <td>420.727677</td>\n",
       "      <td>Hotel</td>\n",
       "      <td>Spouse</td>\n",
       "      <td>0.000000</td>\n",
       "      <td>420.727677</td>\n",
       "    </tr>\n",
       "  </tbody>\n",
       "</table>\n",
       "</div>"
      ],
      "text/plain": [
       "   Year    R.mth City_residence                Purpose  langint 1st_visit  \\\n",
       "0  2015  January     Yogyakarta  Holiday/ Rest & Relax  English        No   \n",
       "1  2015  January          Batam  Holiday/ Rest & Relax  English        No   \n",
       "2  2015  January          Batam  Holiday/ Rest & Relax  English        No   \n",
       "\n",
       "  length_stay   travel_type f1_gender  \\\n",
       "0      4 days  Non-Packaged      Male   \n",
       "1      2 days      Packaged      Male   \n",
       "2      3 days  Non-Packaged    Female   \n",
       "\n",
       "                                 f3_occupation     totexp_$ MainAccomm  \\\n",
       "0      Businessman (small company, <50 people)  1096.186995      Hotel   \n",
       "1  Professiols (doctor, lawyer, lecturer, etc)   379.309926      Hotel   \n",
       "2                        Homemaker (Full time)   420.727677      Hotel   \n",
       "\n",
       "  travel_companion.1  total_shopping  total_others  \n",
       "0             Spouse     1500.000000   1096.186995  \n",
       "1             Spouse      133.333333    379.309926  \n",
       "2             Spouse        0.000000    420.727677  "
      ]
     },
     "execution_count": 11,
     "metadata": {},
     "output_type": "execute_result"
    }
   ],
   "source": [
    "indo.head(3)"
   ]
  },
  {
   "cell_type": "code",
   "execution_count": 12,
   "id": "da7affea",
   "metadata": {},
   "outputs": [
    {
     "data": {
      "text/plain": [
       "['R.mth',\n",
       " 'City_residence',\n",
       " 'Purpose',\n",
       " 'langint',\n",
       " '1st_visit',\n",
       " 'length_stay',\n",
       " 'travel_type',\n",
       " 'f1_gender',\n",
       " 'f3_occupation',\n",
       " 'MainAccomm',\n",
       " 'travel_companion.1']"
      ]
     },
     "execution_count": 12,
     "metadata": {},
     "output_type": "execute_result"
    }
   ],
   "source": [
    "categorical_data = []\n",
    "\n",
    "for x in indo.dtypes.index:\n",
    "    if indo.dtypes[x] == 'object':\n",
    "        categorical_data.append(x)\n",
    "categorical_data"
   ]
  },
  {
   "cell_type": "code",
   "execution_count": 13,
   "id": "c4201c11",
   "metadata": {},
   "outputs": [
    {
     "data": {
      "text/plain": [
       "Year                   0\n",
       "R.mth                  0\n",
       "City_residence         0\n",
       "Purpose                0\n",
       "langint                0\n",
       "1st_visit              0\n",
       "length_stay            0\n",
       "travel_type            0\n",
       "f1_gender              0\n",
       "f3_occupation          0\n",
       "totexp_$               0\n",
       "MainAccomm            33\n",
       "travel_companion.1     0\n",
       "total_shopping         0\n",
       "total_others           0\n",
       "dtype: int64"
      ]
     },
     "execution_count": 13,
     "metadata": {},
     "output_type": "execute_result"
    }
   ],
   "source": [
    "indo.isnull().sum()"
   ]
  },
  {
   "cell_type": "code",
   "execution_count": 14,
   "id": "356b32a5",
   "metadata": {},
   "outputs": [],
   "source": [
    "indo.dropna(inplace=True)"
   ]
  },
  {
   "cell_type": "code",
   "execution_count": 16,
   "id": "d18a90c3",
   "metadata": {},
   "outputs": [
    {
     "data": {
      "image/png": "[encoded data removed]",
      "text/plain": [
       "<Figure size 432x288 with 1 Axes>"
      ]
     },
     "metadata": {},
     "output_type": "display_data"
    }
   ],
   "source": [
    "gender = indo['f1_gender'].value_counts()\n",
    "plt.title('Distribution by Gender of Indonesian tourist in 2014-2015')\n",
    "plt.pie([gender.loc['Male'], gender.loc['Female']], labels=['Male', 'Female'], autopct='%.1f%%', startangle=90)\n",
    "plt.savefig('img/indo_gender.png', bbox_inches='tight')\n",
    "plt.show()"
   ]
  },
  {
   "cell_type": "code",
   "execution_count": 17,
   "id": "6b4de20f",
   "metadata": {},
   "outputs": [
    {
     "data": {
      "text/plain": [
       "Hotel                                                          48.52\n",
       "Stayed with relatives/ friends                                 20.45\n",
       "Accommodation not required - Day Tripper                       19.72\n",
       "Hostel (Rental by bed)                                          5.18\n",
       "Service Apartment                                               2.80\n",
       "Own Residence                                                   1.01\n",
       "Accommodation not required - On-board Cruise                    0.64\n",
       "Homestay                                                        0.56\n",
       "Other paid accommodations (e.g.chalets, country clubs, etc)     0.42\n",
       "Accommodation not required - Others                             0.32\n",
       "Other non-paid accommodations (e.g. religious places, camp,     0.26\n",
       "Student Hostel                                                  0.07\n",
       "Hospital                                                        0.05\n",
       "Name: MainAccomm, dtype: float64"
      ]
     },
     "execution_count": 17,
     "metadata": {},
     "output_type": "execute_result"
    }
   ],
   "source": [
    "round(indo['MainAccomm'].value_counts(normalize=True) * 100.0, 2)"
   ]
  },
  {
   "cell_type": "code",
   "execution_count": 18,
   "id": "a2fc8871",
   "metadata": {},
   "outputs": [],
   "source": [
    "indo = indo.replace(\n",
    "    [\n",
    "        'Accommodation not required - Day Tripper', \n",
    "        'Accommodation not required - On-board Cruise',\n",
    "        'Accommodation not required - Others'\n",
    "    ],\n",
    "    'Accommodation not required'\n",
    ")\n",
    "\n",
    "indo = indo.replace(\n",
    "    [\n",
    "        'Hostel (Rental by bed)', \n",
    "        'Service Apartment',\n",
    "        'Homestay',\n",
    "        'Other paid accommodations (e.g.chalets, country clubs, etc)',\n",
    "        'Student Hostel',\n",
    "        'Hospital'\n",
    "    ],\n",
    "    'Other paid'\n",
    ")\n",
    "\n",
    "indo = indo.replace(\n",
    "    [\n",
    "        'Own Residence', \n",
    "        'Other non-paid accommodations (e.g. religious places, camp,'\n",
    "    ],\n",
    "    'Other non-paid'\n",
    ")"
   ]
  },
  {
   "cell_type": "code",
   "execution_count": 19,
   "id": "3019f844",
   "metadata": {
    "scrolled": true
   },
   "outputs": [
    {
     "data": {
      "text/plain": [
       "Hotel                             48.52\n",
       "Accommodation not required        20.68\n",
       "Stayed with relatives/ friends    20.45\n",
       "Other paid                         9.08\n",
       "Other non-paid                     1.26\n",
       "Name: MainAccomm, dtype: float64"
      ]
     },
     "execution_count": 19,
     "metadata": {},
     "output_type": "execute_result"
    }
   ],
   "source": [
    "round(indo['MainAccomm'].value_counts(normalize=True) * 100.0, 2)"
   ]
  },
  {
   "cell_type": "code",
   "execution_count": 22,
   "id": "8a3503c7",
   "metadata": {},
   "outputs": [
    {
     "data": {
      "image/png": "[encoded data removed]",
      "text/plain": [
       "<Figure size 432x432 with 1 Axes>"
      ]
     },
     "metadata": {},
     "output_type": "display_data"
    }
   ],
   "source": [
    "plt.figure(figsize=(6,6))\n",
    "plt.title('Distribution of Accomodation for Indonesian Tourist in 2014-2015')\n",
    "indo['MainAccomm'].value_counts().plot.pie(autopct='%.1f%%', label=\"\", startangle=90, pctdistance=0.8)\n",
    "plt.savefig('img/indo_accom.png', bbox_inches='tight')\n",
    "plt.show()"
   ]
  },
  {
   "cell_type": "code",
   "execution_count": 20,
   "id": "19d92067",
   "metadata": {},
   "outputs": [
    {
     "data": {
      "text/plain": [
       "Year                  0\n",
       "R.mth                 0\n",
       "City_residence        0\n",
       "Purpose               0\n",
       "langint               0\n",
       "1st_visit             0\n",
       "length_stay           0\n",
       "travel_type           0\n",
       "f1_gender             0\n",
       "f3_occupation         0\n",
       "totexp_$              0\n",
       "MainAccomm            0\n",
       "travel_companion.1    0\n",
       "total_shopping        0\n",
       "total_others          0\n",
       "dtype: int64"
      ]
     },
     "execution_count": 20,
     "metadata": {},
     "output_type": "execute_result"
    }
   ],
   "source": [
    "indo.isnull().sum()"
   ]
  },
  {
   "cell_type": "markdown",
   "id": "b96546ab",
   "metadata": {},
   "source": [
    "## Encode"
   ]
  },
  {
   "cell_type": "code",
   "execution_count": 21,
   "id": "500eba3c",
   "metadata": {},
   "outputs": [],
   "source": [
    "from sklearn.preprocessing import LabelEncoder, OneHotEncoder, MultiLabelBinarizer\n",
    "\n",
    "\n",
    "for col in categorical_data:\n",
    "    if col == 'MainAccomm':\n",
    "        le = LabelEncoder()\n",
    "        indo[col] = le.fit_transform(indo[col].astype(str))    \n",
    "    else:\n",
    "        ohe = OneHotEncoder(sparse=False)\n",
    "        ohe.fit(indo[col].astype(str).values.reshape(-1,1))\n",
    "        transformed = ohe.transform(indo[col].astype(str).values.reshape(-1,1))\n",
    "        ohe_df = pd.DataFrame(transformed, columns=ohe.get_feature_names())\n",
    "        indo = pd.concat([indo.reset_index(drop=True), ohe_df], axis=1).drop([col], axis=1)"
   ]
  },
  {
   "cell_type": "code",
   "execution_count": 22,
   "id": "01fec6b3",
   "metadata": {},
   "outputs": [
    {
     "data": {
      "text/plain": [
       "Index(['Year', 'totexp_$', 'MainAccomm', 'total_shopping', 'total_others',\n",
       "       'x0_April', 'x0_August', 'x0_December', 'x0_February', 'x0_January',\n",
       "       ...\n",
       "       'x0_Children aged 40 yrs and above', 'x0_Children aged 8-12 yrs',\n",
       "       'x0_Friends', 'x0_Grandparents/ Grandparents-in-law',\n",
       "       'x0_Other relatives', 'x0_Others', 'x0_Parents/ Parents-in-law',\n",
       "       'x0_Partner/ Boyfriend/ Girlfriend', 'x0_Siblings', 'x0_Spouse'],\n",
       "      dtype='object', length=172)"
      ]
     },
     "execution_count": 22,
     "metadata": {},
     "output_type": "execute_result"
    }
   ],
   "source": [
    "indo.columns"
   ]
  },
  {
   "cell_type": "code",
   "execution_count": 23,
   "id": "ddf94fa9",
   "metadata": {},
   "outputs": [
    {
     "data": {
      "text/plain": [
       "1    4296\n",
       "0    1831\n",
       "4    1811\n",
       "3     804\n",
       "2     112\n",
       "Name: MainAccomm, dtype: int64"
      ]
     },
     "execution_count": 23,
     "metadata": {},
     "output_type": "execute_result"
    }
   ],
   "source": [
    "indo['MainAccomm'].value_counts()"
   ]
  },
  {
   "cell_type": "markdown",
   "id": "be867541",
   "metadata": {},
   "source": [
    "## Split data"
   ]
  },
  {
   "cell_type": "code",
   "execution_count": 24,
   "id": "b381a46c",
   "metadata": {},
   "outputs": [],
   "source": [
    "y = indo['MainAccomm']\n",
    "X = indo.drop(['MainAccomm'],axis=1)"
   ]
  },
  {
   "cell_type": "code",
   "execution_count": 25,
   "id": "9abde3df",
   "metadata": {},
   "outputs": [],
   "source": [
    "from sklearn.model_selection import train_test_split\n",
    "from sklearn.metrics import accuracy_score, confusion_matrix\n",
    "\n",
    "X_train, X_test, y_train, y_test = train_test_split(X, y, test_size=0.2, random_state=42)"
   ]
  },
  {
   "cell_type": "code",
   "execution_count": 26,
   "id": "e777fac9",
   "metadata": {},
   "outputs": [
    {
     "data": {
      "text/plain": [
       "(8854, 7083, 1771)"
      ]
     },
     "execution_count": 26,
     "metadata": {},
     "output_type": "execute_result"
    }
   ],
   "source": [
    "len(y), len(y_train), len(y_test)"
   ]
  },
  {
   "cell_type": "code",
   "execution_count": 27,
   "id": "044c069a",
   "metadata": {},
   "outputs": [],
   "source": [
    "num_classes = 5"
   ]
  },
  {
   "cell_type": "code",
   "execution_count": 28,
   "id": "ac7fd9c4",
   "metadata": {},
   "outputs": [
    {
     "name": "stdout",
     "output_type": "stream",
     "text": [
      "Train acc = 48.72%\n",
      "Test acc = 47.71%\n"
     ]
    }
   ],
   "source": [
    "from sklearn import svm\n",
    "\n",
    "svm_clf = svm.SVC()\n",
    "svm_clf.fit(X_train, y_train)\n",
    "pred_svm = svm_clf.predict(X_test)\n",
    "print(f'Train acc = {(accuracy_score(y_train, svm_clf.predict(X_train)) * 100.0):.2f}%')\n",
    "print(f'Test acc = {(accuracy_score(y_test, pred_svm) * 100.0):.2f}%')"
   ]
  },
  {
   "cell_type": "code",
   "execution_count": 30,
   "id": "8774667e",
   "metadata": {},
   "outputs": [
    {
     "name": "stdout",
     "output_type": "stream",
     "text": [
      "n_neighbors = 1; train acc = 100.00%; test acc = 60.30%\n",
      "n_neighbors = 2; train acc = 81.15%; test acc = 61.94%\n",
      "n_neighbors = 5; train acc = 76.34%; test acc = 66.57%\n",
      "n_neighbors = 10; train acc = 72.96%; test acc = 67.25%\n",
      "n_neighbors = 20; train acc = 71.03%; test acc = 66.74%\n"
     ]
    }
   ],
   "source": [
    "from sklearn.neighbors import KNeighborsClassifier\n",
    "\n",
    "for n in [1, 2, 5, 10, 20]:\n",
    "    knn = KNeighborsClassifier(n_neighbors=n)\n",
    "    knn.fit(X_train, y_train)\n",
    "    pred_knn = knn.predict(X_test)\n",
    "    print(f'n_neighbors = {n}; train acc = {(accuracy_score(y_train, knn.predict(X_train)) * 100.0):.2f}%', end='')\n",
    "    print(f'; test acc = {(accuracy_score(y_test, pred_knn) * 100.0):.2f}%')"
   ]
  },
  {
   "cell_type": "code",
   "execution_count": 31,
   "id": "7bb1deaf",
   "metadata": {},
   "outputs": [
    {
     "name": "stdout",
     "output_type": "stream",
     "text": [
      "Train acc = 100.00%\n",
      "Test acc = 75.83%\n"
     ]
    }
   ],
   "source": [
    "from sklearn.tree import DecisionTreeClassifier\n",
    "\n",
    "tree = DecisionTreeClassifier()\n",
    "tree.fit(X_train, y_train)\n",
    "pred_tree = tree.predict(X_test)\n",
    "print(f'Train acc = {(accuracy_score(y_train, tree.predict(X_train)) * 100.0):.2f}%')\n",
    "print(f'Test acc = {(accuracy_score(y_test, pred_tree) * 100.0):.2f}%')"
   ]
  },
  {
   "cell_type": "code",
   "execution_count": 33,
   "id": "5cf7ad64",
   "metadata": {},
   "outputs": [
    {
     "name": "stdout",
     "output_type": "stream",
     "text": [
      "Train acc = 80.49%\n",
      "Test acc = 78.43%\n"
     ]
    }
   ],
   "source": [
    "from sklearn.multiclass import OneVsRestClassifier\n",
    "from sklearn.svm import LinearSVC\n",
    "\n",
    "ovr = OneVsRestClassifier(LinearSVC(random_state=42, max_iter=1e5))\n",
    "ovr.fit(X_train, y_train)\n",
    "pred_ovr = ovr.predict(X_test)\n",
    "print(f'Train acc = {(accuracy_score(y_train, ovr.predict(X_train)) * 100.0):.2f}%')\n",
    "print(f'Test acc = {(accuracy_score(y_test, pred_ovr) * 100.0):.2f}%')"
   ]
  },
  {
   "cell_type": "code",
   "execution_count": 35,
   "id": "e290d03f",
   "metadata": {},
   "outputs": [
    {
     "data": {
      "image/png": "[encoded data removed]",
      "text/plain": [
       "<Figure size 500x400 with 2 Axes>"
      ]
     },
     "metadata": {},
     "output_type": "display_data"
    }
   ],
   "source": [
    "cf_mat = confusion_matrix(y_test, pred_ovr)\n",
    "cm_df = pd.DataFrame(cf_mat, index=[i for i in range(num_classes)], columns=[i for i in range(num_classes)])\n",
    "plt.figure(figsize=(5,4))\n",
    "sb.heatmap(cm_df, annot=True)\n",
    "plt.show()"
   ]
  },
  {
   "cell_type": "code",
   "execution_count": null,
   "id": "c9f6a42c",
   "metadata": {},
   "outputs": [],
   "source": []
  }
 ],
 "metadata": {
  "kernelspec": {
   "display_name": "Python 3 (ipykernel)",
   "language": "python",
   "name": "python3"
  },
  "language_info": {
   "codemirror_mode": {
    "name": "ipython",
    "version": 3
   },
   "file_extension": ".py",
   "mimetype": "text/x-python",
   "name": "python",
   "nbconvert_exporter": "python",
   "pygments_lexer": "ipython3",
   "version": "3.9.12"
  },
  "vscode": {
   "interpreter": {
    "hash": "397704579725e15f5c7cb49fe5f0341eb7531c82d19f2c29d197e8b64ab5776b"
   }
  }
 },
 "nbformat": 4,
 "nbformat_minor": 5
}
